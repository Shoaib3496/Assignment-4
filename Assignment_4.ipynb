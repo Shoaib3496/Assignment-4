{
  "nbformat": 4,
  "nbformat_minor": 0,
  "metadata": {
    "colab": {
      "provenance": []
    },
    "kernelspec": {
      "name": "python3",
      "display_name": "Python 3"
    },
    "language_info": {
      "name": "python"
    }
  },
  "cells": [
    {
      "cell_type": "markdown",
      "source": [
        "1. What is Object-Oriented Programming (OOP)\n",
        " - A programming paradigm based on objects that contain both data (attributes) and methods (functions)\n",
        "2. What is a class in OOP\n",
        " - A blueprint for creating objects, defining attributes and methods\n",
        "3. What is an object in OOP\n",
        " - An instance of a class, representing a specific entity with data and behavior\n",
        "4. What is the difference between abstraction and encapsulation\n",
        " - Abstraction hides implementation details and shows only functionality\n",
        " - Encapsulation bundles data and methods together and restricts direct access\n",
        "5. What are dunder methods in Python\n",
        " - Special methods with double underscores(e.g., __init__, __str__, __len__) that define object behavior\n",
        "6. Explain the concept of inheritance in OOP\n",
        " - A mechanism where one class (child) derives attributes and methods from another class (parent)\n",
        "7. What is polymorphism in OOP\n",
        " - The ability of different objects to respond to the same method in different ways\n",
        "8. How is encapsulation achieved in Python\n",
        " - By using private (_var or __var) attributes and getter/setter methods\n",
        "9. What is a constructor in Python\n",
        " - The __init__() method, automatically called when an object is created\n",
        "10. What are class and static methods in Python\n",
        " - Class methods (with @classmethod) take cls as first parameter and operate on the class\n",
        " - Static methods (with @staticmethod) don't use self or cls; act like normal functions inside a class\n",
        "11. What is method overloading in Python\n",
        " - Python doesn't support true overloading; it can be mimicked with default arguments or *args\n",
        "12. What is method overriding in OOP\n",
        " - Redefining a parent class method in a child class with the same signature\n",
        "13. What is a property decorator in Python\n",
        " - @property allows methods to be accessed like attributes while providing encapsulation\n",
        "14. Why is polymorphism important in OOP\n",
        " - It increases flexibility and reusability by allowing different objects to use the same interface\n",
        "15. What is an abstract class in Python\n",
        " - A class that cannot be instantiated and may contain abstract methods (defined with @abstractmethod)\n",
        "16. What are the advantages of OOP\n",
        " - Reusability, modularity, abstraction, encapsulation, polymorphism, and maintainability\n",
        "17. What is the difference between a class variable and an instance variable\n",
        " - Class variable: Shared by all objects of the class\n",
        " - Instance variable: Unique to each object\n",
        "18. What is multiple inheritance in Python\n",
        " - A class inheriting from more than one parent class\n",
        "19. Explain the purpose of ‘’__str__’ and ‘__repr__’ ‘ methods in Python\n",
        " - __str__: User-friendly string representation\n",
        " - __repr__: Developer-friendly representation, used for debugging\n",
        "20. What is the significance of the ‘super()’ function in Python\n",
        " - Calls methods from the parent class, useful for method overriding and cooperative inheritance\n",
        "21. What is the significance of the __del__ method in Python\n",
        " - Destructor method, called when an object is about to be destroyed\n",
        "22. What is the difference between @staticmethod and @classmethod in Python\n",
        " - @staticmethod: No access to class or instance\n",
        " - @classmethod: Has access to the class (cls)\n",
        "23. How does polymorphism work in Python with inheritance\n",
        " - Child classes override parent methods; the same method name behaves differently depending on the object\n",
        "24. What is method chaining in Python OOP\n",
        " - Calling multiple methods in a single statement by returning self from methods\n",
        "25. What is the purpose of the __call__ method in Python\n",
        " - Makes an object callable like a function"
      ],
      "metadata": {
        "id": "9NbX1sqDNWNs"
      }
    },
    {
      "cell_type": "markdown",
      "source": [
        "**Practical Questions**"
      ],
      "metadata": {
        "id": "Rv9y2UJ6DkW8"
      }
    },
    {
      "cell_type": "markdown",
      "source": [
        "1.  Create a parent class Animal with a method speak() that prints a generic message. Create a child class Dog that overrides the speak() method to print \"Bark!\""
      ],
      "metadata": {
        "id": "vnk1heUADr8Z"
      }
    },
    {
      "cell_type": "code",
      "execution_count": 1,
      "metadata": {
        "id": "usCRJGR4NJSS"
      },
      "outputs": [],
      "source": [
        "class Animal:\n",
        "  def speak(self):\n",
        "    print(\"Generic animal sound\")\n",
        "\n",
        "class Dog:\n",
        "  def speak(self):\n",
        "    print(\"Bark!\")\n"
      ]
    },
    {
      "cell_type": "markdown",
      "source": [
        "2. Write a program to create an abstract class Shape with a method area(). Derive classes Circle and Rectangle from it and implement the area() method in both"
      ],
      "metadata": {
        "id": "Q1wY6kKfEegx"
      }
    },
    {
      "cell_type": "code",
      "source": [
        "from abc import ABC, abstractmethod\n",
        "class Shape:\n",
        "  @abstractmethod\n",
        "  def area(ABC):\n",
        "    pass\n",
        "\n",
        "class Circle:\n",
        "  def __init__(self,radius):\n",
        "    self.radius=radius\n",
        "  def area(self):\n",
        "    return 3.14 * self.radius ** 2\n",
        "\n",
        "class Rectangle:\n",
        "  def __init__(self, length, width):\n",
        "    self.length=length\n",
        "    self.width=width\n",
        "  def area(self):\n",
        "    return self.length * self.width"
      ],
      "metadata": {
        "id": "L4DgWcc6Ej_b"
      },
      "execution_count": 2,
      "outputs": []
    },
    {
      "cell_type": "markdown",
      "source": [
        "3. Implement a multi-level inheritance scenario where a class Vehicle has an attribute type. Derive a class Car\n",
        "and further derive a class ElectricCar that adds a battery attribute"
      ],
      "metadata": {
        "id": "NGdwtTrtGRxx"
      }
    },
    {
      "cell_type": "code",
      "source": [
        "class Vehicle:\n",
        "  def __init__(self, vehicle_type):\n",
        "    self.vehicle_type=vehicle_type\n",
        "\n",
        "class Car(Vehicle):\n",
        "  def __init__(self, brand, vehicle_type='Car'):\n",
        "    super(). __init__(vehicle_type)\n",
        "    self.brand=brand\n",
        "\n",
        "class ElectricCar(Car):\n",
        "  def __init__(self, brand, battery):\n",
        "    super(). __init__(brand)\n",
        "    self.battery=battery"
      ],
      "metadata": {
        "id": "JQdrIE1nGVbp"
      },
      "execution_count": 3,
      "outputs": []
    },
    {
      "cell_type": "markdown",
      "source": [
        "4. Demonstrate polymorphism by creating a base class Bird with a method fly(). Create two derived classes Sparrow and Penguin that override the fly() method"
      ],
      "metadata": {
        "id": "sRLds282Hx3p"
      }
    },
    {
      "cell_type": "code",
      "source": [
        "class Bird:\n",
        "  def fly(self):\n",
        "    print(\"Bird is flying\")\n",
        "\n",
        "class Sparrow(Bird):\n",
        "  def fly(self):\n",
        "    print(\"Sparrow flies fast\")\n",
        "\n",
        "class Penguin(Bird):\n",
        "  def fly(self):\n",
        "    print(\"Penguin flies slow\")"
      ],
      "metadata": {
        "id": "eU-CTQxnH4OU"
      },
      "execution_count": 5,
      "outputs": []
    },
    {
      "cell_type": "markdown",
      "source": [
        "5. Write a program to demonstrate encapsulation by creating a class BankAccount with private attributes balance and methods to deposit, withdraw, and check balance"
      ],
      "metadata": {
        "id": "HiAW6CnBItQh"
      }
    },
    {
      "cell_type": "code",
      "source": [
        "class Bank:\n",
        "  def __init__(self, balance):\n",
        "    self.balance=balance\n",
        "\n",
        "  def deposit(self, amount):\n",
        "    self.__balance+=amount\n",
        "\n",
        "  def withdraw(self, amount):\n",
        "    if amount<=self.__balance:\n",
        "      self.__balance-=amount\n",
        "    else:\n",
        "      print(\"Insufficient balance\")\n",
        "\n",
        "  def check_balance(self):\n",
        "    return self.__balance"
      ],
      "metadata": {
        "id": "CkdTixhcIzdU"
      },
      "execution_count": 7,
      "outputs": []
    },
    {
      "cell_type": "markdown",
      "source": [
        "6. Demonstrate runtime polymorphism using a method play() in a base class Instrument. Derive classes Guitar and Piano that implement their own version of play()"
      ],
      "metadata": {
        "id": "HtJP25NXKoMN"
      }
    },
    {
      "cell_type": "code",
      "source": [
        "class Instrument:\n",
        "  def play(self):\n",
        "    print(\"Playing an instrument\")\n",
        "\n",
        "class Guitar(Instrument):\n",
        "  def play(self):\n",
        "    print(\"Guitar is used by musicians\")\n",
        "\n",
        "class Piano(Instrument):\n",
        "  def play(self):\n",
        "    print(\"Piano gives vibes of music\")"
      ],
      "metadata": {
        "id": "1AGjFYaLKtYI"
      },
      "execution_count": 8,
      "outputs": []
    },
    {
      "cell_type": "markdown",
      "source": [
        "7. Create a class MathOperations with a class method add_numbers() to add two numbers and a static method subtract_numbers() to subtract two numbers"
      ],
      "metadata": {
        "id": "mKHD9n_jLmqw"
      }
    },
    {
      "cell_type": "code",
      "source": [
        "class MathOPeration:\n",
        "  @classmethod\n",
        "  def add_two_nums(cls, a, b):\n",
        "    return a+b\n",
        "\n",
        "  @staticmethod\n",
        "  def subtract_two_nums(a,b):\n",
        "    return a-b"
      ],
      "metadata": {
        "id": "ZnNJUhLpLrzh"
      },
      "execution_count": 9,
      "outputs": []
    },
    {
      "cell_type": "markdown",
      "source": [
        "8. Implement a class Person with a class method to count the total number of persons created"
      ],
      "metadata": {
        "id": "DxWNm5Y8MVo5"
      }
    },
    {
      "cell_type": "code",
      "source": [
        "class Person:\n",
        "  count=0\n",
        "  def __init__(self,name):\n",
        "    self.name=name\n",
        "    Person.count+=1\n",
        "\n",
        "  @classmethod\n",
        "  def total_persons(cls):\n",
        "    return cls.count"
      ],
      "metadata": {
        "id": "xBZAkm1qMaDg"
      },
      "execution_count": 10,
      "outputs": []
    },
    {
      "cell_type": "markdown",
      "source": [
        "9. Write a class Fraction with attributes numerator and denominator. Override the str method to display the fraction as \"numerator/denominator"
      ],
      "metadata": {
        "id": "JmYyYHJlNGWd"
      }
    },
    {
      "cell_type": "code",
      "source": [
        "class Fraction:\n",
        "  def __init__(self, numerator, denominator):\n",
        "    self.numerator=numerator\n",
        "    self.denominator=denominator\n",
        "\n",
        "  def __str__(self):\n",
        "    return f\"{self.numerator}/{self.denominator}\""
      ],
      "metadata": {
        "id": "eIJtwt_xNMVO"
      },
      "execution_count": 11,
      "outputs": []
    },
    {
      "cell_type": "markdown",
      "source": [
        "10. Demonstrate operator overloading by creating a class Vector and overriding the add method to add two vectors"
      ],
      "metadata": {
        "id": "neUX5dv4NwbU"
      }
    },
    {
      "cell_type": "code",
      "source": [
        "class Vector:\n",
        "  def __init__(self, x, y):\n",
        "    self.x=x\n",
        "    self.y=y\n",
        "\n",
        "  def __add__(self, other):\n",
        "    return Vector(self.x + other.x, self.y + other.y)\n",
        "\n",
        "  def __str__(self):\n",
        "    return f\"({self.x}, {self.y})\""
      ],
      "metadata": {
        "id": "N8eSVjaDN11w"
      },
      "execution_count": 12,
      "outputs": []
    },
    {
      "cell_type": "markdown",
      "source": [
        "11. Create a class Person with attributes name and age. Add a method greet() that prints \"Hello, my name is {name} and I am {age} years old\""
      ],
      "metadata": {
        "id": "5Bwizj3UOugD"
      }
    },
    {
      "cell_type": "code",
      "source": [
        "class Person:\n",
        "  def __init__(self,name, age):\n",
        "    self.name=name\n",
        "    self.age=age\n",
        "\n",
        "  def greet(self):\n",
        "    print(\"Hello, my name is {self.name} and I am {self.age} years old\")"
      ],
      "metadata": {
        "id": "EIqfWea-O1LL"
      },
      "execution_count": 13,
      "outputs": []
    },
    {
      "cell_type": "markdown",
      "source": [
        "12. Implement a class Student with attributes name and grades. Create a method average_grade() to compute the average of the grades"
      ],
      "metadata": {
        "id": "tc9S9D6tZLcF"
      }
    },
    {
      "cell_type": "code",
      "source": [
        "class Student:\n",
        "  def __init__(self, name, grades):\n",
        "    self.name=name\n",
        "    self.grades=grades\n",
        "\n",
        "  def average_grade(self):\n",
        "    return sum(self.grades) / len(self.grades)"
      ],
      "metadata": {
        "id": "uYrscTEKZQVS"
      },
      "execution_count": 14,
      "outputs": []
    },
    {
      "cell_type": "markdown",
      "source": [
        "13. Create a class Rectangle with methods set_dimensions() to set the dimensions and area() to calculate the area"
      ],
      "metadata": {
        "id": "-dJbxFxpZ6hY"
      }
    },
    {
      "cell_type": "code",
      "source": [
        "class Rectange:\n",
        "  def __init__(self, length, width):\n",
        "    self.length=length\n",
        "    self.width=width\n",
        "\n",
        "  def area(self):\n",
        "    return self.length * self.width"
      ],
      "metadata": {
        "id": "nGOTh8X3Z-UZ"
      },
      "execution_count": 15,
      "outputs": []
    },
    {
      "cell_type": "markdown",
      "source": [
        "14. Create a class Employee with a method calculate_salary() that computes the salary based on hours worked\n",
        "and hourly rate. Create a derived class Manager that adds a bonus to the salary"
      ],
      "metadata": {
        "id": "AFgp9ZHNad9_"
      }
    },
    {
      "cell_type": "code",
      "source": [
        "class Employee:\n",
        "  def __init__(self, hours, rate):\n",
        "    self.hours=hours\n",
        "    self.rate=rate\n",
        "\n",
        "  def calculate_salary(self):\n",
        "    return self.hours * self.rate\n",
        "\n",
        "class Manager(Employee):\n",
        "  def __init__(self, hours, rate, bonus):\n",
        "    super().__init__(hours, rate)\n",
        "    self.bonus=bonus\n",
        "\n",
        "  def calculate_salary(self):\n",
        "    return super().calculate_salary() + bonus"
      ],
      "metadata": {
        "id": "t2Fy4toXaihw"
      },
      "execution_count": 16,
      "outputs": []
    },
    {
      "cell_type": "markdown",
      "source": [
        "15. Create a class Product with attributes name, price, and quantity. Implement a method total_price() that\n",
        "calculates the total price of the product."
      ],
      "metadata": {
        "id": "dAXBKOH0bkYZ"
      }
    },
    {
      "cell_type": "code",
      "source": [
        "class Product:\n",
        "  def __init__(self, name, price, quantity):\n",
        "    self.name=name\n",
        "    self.price=price\n",
        "    self.quantity=quantity\n",
        "  def total_price(self):\n",
        "    return self.price * self.quantity"
      ],
      "metadata": {
        "id": "27cdqjJIbpCP"
      },
      "execution_count": 17,
      "outputs": []
    },
    {
      "cell_type": "markdown",
      "source": [
        "16. Create a class Animal with an abstract method sound(). Create two derived classes Cow and Sheep that\n",
        "implement the sound() method"
      ],
      "metadata": {
        "id": "mq43XUkJcEmb"
      }
    },
    {
      "cell_type": "code",
      "source": [
        "from abc import ABC, abstractmethod\n",
        "class Animal:\n",
        "  @abstractmethod\n",
        "  def sound(self):\n",
        "    pass\n",
        "\n",
        "class Cow(Animal):\n",
        "  def sound(self):\n",
        "    print(\"Moo\")\n",
        "\n",
        "class Sheep(Animal):\n",
        "  def sound(self):\n",
        "    print(\"Baa\")"
      ],
      "metadata": {
        "id": "jZxubE7OcIs7"
      },
      "execution_count": 18,
      "outputs": []
    },
    {
      "cell_type": "markdown",
      "source": [
        "17 Create a class Book with attributes title, author, and year_published. Add a method get_book_info() that\n",
        "returns a formatted string with the book's details"
      ],
      "metadata": {
        "id": "wl8qrdCrc0zd"
      }
    },
    {
      "cell_type": "code",
      "source": [
        "class Book:\n",
        "  def __init__(self, title, author, year_published):\n",
        "    self.title=title\n",
        "    self.author=author\n",
        "    self.year_published=year_published\n",
        "\n",
        "  def get_book_info(self):\n",
        "    return f\"{self.title} by {self.author} published in {self.year_published}\""
      ],
      "metadata": {
        "id": "ngXlxMPbc4S2"
      },
      "execution_count": 19,
      "outputs": []
    },
    {
      "cell_type": "markdown",
      "source": [
        "18. Create a class House with attributes address and price. Create a derived class Mansion that adds an\n",
        "attribute number_of_rooms"
      ],
      "metadata": {
        "id": "UOMT0uvTdkZR"
      }
    },
    {
      "cell_type": "code",
      "source": [
        "class House:\n",
        "  def __init__(self, address, price):\n",
        "    self.address=address\n",
        "    self.price=price\n",
        "\n",
        "class Mansion(House):\n",
        "  def __init__(self, address, price, number_of_rooms):\n",
        "    super().__init__(address, price)\n",
        "    self.number_of_rooms=number_of_rooms\n",
        ""
      ],
      "metadata": {
        "id": "QAqvrHMldoM8"
      },
      "execution_count": 20,
      "outputs": []
    }
  ]
}